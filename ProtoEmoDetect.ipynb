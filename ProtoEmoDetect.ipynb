{
  "nbformat": 4,
  "nbformat_minor": 0,
  "metadata": {
    "colab": {
      "provenance": []
    },
    "kernelspec": {
      "name": "python3",
      "display_name": "Python 3"
    },
    "language_info": {
      "name": "python"
    }
  },
  "cells": [
    {
      "cell_type": "markdown",
      "source": [
        "#1st Version (Using Vader)"
      ],
      "metadata": {
        "id": "rGzN6DVAdb8m"
      }
    },
    {
      "cell_type": "code",
      "source": [
        "!pip install nltk"
      ],
      "metadata": {
        "id": "2VZvOamydAWO"
      },
      "execution_count": null,
      "outputs": []
    },
    {
      "cell_type": "code",
      "source": [
        "import nltk\n",
        "nltk.download('vader_lexicon')\n",
        "from nltk.sentiment.vader import SentimentIntensityAnalyzer"
      ],
      "metadata": {
        "id": "-xG6icwAdEH4"
      },
      "execution_count": null,
      "outputs": []
    },
    {
      "cell_type": "code",
      "source": [
        "model = SentimentIntensityAnalyzer()\n",
        "\n",
        "def predict():\n",
        "  text = input()\n",
        "  print(model.polarity_scores(text))\n",
        "\n",
        "predict()"
      ],
      "metadata": {
        "colab": {
          "base_uri": "https://localhost:8080/"
        },
        "id": "1ON7P5XUdIJJ",
        "outputId": "b0aafb6a-bb5d-40cd-a5d9-558ee532c675"
      },
      "execution_count": 11,
      "outputs": [
        {
          "output_type": "stream",
          "name": "stdout",
          "text": [
            "I want to kill myself\n",
            "{'neg': 0.588, 'neu': 0.25, 'pos': 0.163, 'compound': -0.6597}\n"
          ]
        }
      ]
    },
    {
      "cell_type": "markdown",
      "source": [
        "# 2nd Version (Using RoBERTa Model)"
      ],
      "metadata": {
        "id": "WEZWalNBc32u"
      }
    },
    {
      "cell_type": "code",
      "source": [
        "!pip install transformers"
      ],
      "metadata": {
        "id": "lLGeKVb1aN-y"
      },
      "execution_count": null,
      "outputs": []
    },
    {
      "cell_type": "code",
      "source": [
        "import torch\n",
        "from transformers import AutoTokenizer, RobertaForSequenceClassification\n",
        "\n",
        "# If we have our own data, this Roberta model can be trained on our own data instead\n",
        "# then we can save the model, and load it\n",
        "\n",
        "tokenizer = AutoTokenizer.from_pretrained(\"cardiffnlp/twitter-roberta-base-emotion\")\n",
        "model = RobertaForSequenceClassification.from_pretrained(\"cardiffnlp/twitter-roberta-base-emotion\")"
      ],
      "metadata": {
        "id": "2QufP7FYbUZR"
      },
      "execution_count": 19,
      "outputs": []
    },
    {
      "cell_type": "code",
      "source": [
        "def predict_2(text):\n",
        "  inputs = tokenizer(str(text), return_tensors=\"pt\")\n",
        "  with torch.no_grad():\n",
        "      logits = model(**inputs).logits\n",
        "  predicted_class_id = logits.argmax().item()\n",
        "  print(model.config.id2label[predicted_class_id])\n",
        "\n",
        "predict_2(\"I want to kill myself\")"
      ],
      "metadata": {
        "colab": {
          "base_uri": "https://localhost:8080/"
        },
        "id": "OGfOIHJ8cMnm",
        "outputId": "e397e291-c983-43b7-8d1a-409df1551bc0"
      },
      "execution_count": 25,
      "outputs": [
        {
          "output_type": "stream",
          "name": "stdout",
          "text": [
            "sadness\n"
          ]
        }
      ]
    }
  ]
}