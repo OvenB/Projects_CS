{
  "cells": [
    {
      "cell_type": "code",
      "execution_count": null,
      "metadata": {
        "id": "dSTGQjwzpCMr"
      },
      "outputs": [],
      "source": [
        "import pandas as pd\n",
        "import os\n",
        "from IPython.display import display\n",
        "import numpy as np\n",
        "import librosa\n",
        "import soundfile\n",
        "import matplotlib.pyplot as plt\n",
        "\n",
        "from sklearn.model_selection import train_test_split\n",
        "from sklearn.metrics import classification_report\n",
        "from sklearn.preprocessing import LabelBinarizer, StandardScaler\n",
        "from sklearn.metrics import ConfusionMatrixDisplay\n",
        "import matplotlib.pyplot as plt\n",
        "\n",
        "from tensorflow.keras.layers import Dense, Dropout\n",
        "from tensorflow.keras import Model, Sequential\n",
        "from tensorflow.keras.utils import set_random_seed\n",
        "\n",
        "import pickle"
      ]
    },
    {
      "cell_type": "markdown",
      "metadata": {
        "id": "M-ChHXIBpFcm"
      },
      "source": [
        "# Data Loading"
      ]
    },
    {
      "cell_type": "code",
      "execution_count": null,
      "metadata": {
        "colab": {
          "base_uri": "https://localhost:8080/"
        },
        "id": "JT25CeRfpE0U",
        "outputId": "a71c93f2-13c1-44d6-d86e-1d0bc98d5a04"
      },
      "outputs": [
        {
          "output_type": "stream",
          "name": "stdout",
          "text": [
            "Downloading...\n",
            "From: https://drive.google.com/uc?id=1NBPxs5k2UHpfPpmMsADjn85PXOfaz3gW\n",
            "To: /content/speech-emotion-recognition-ravdess-data.zip\n",
            "100% 78.1M/78.1M [00:02<00:00, 30.9MB/s]\n"
          ]
        }
      ],
      "source": [
        "!gdown 1NBPxs5k2UHpfPpmMsADjn85PXOfaz3gW\n",
        "!unzip -q speech-emotion-recognition-ravdess-data -d /content/dataset"
      ]
    },
    {
      "cell_type": "code",
      "execution_count": null,
      "metadata": {
        "colab": {
          "base_uri": "https://localhost:8080/"
        },
        "id": "1LSpAl1yqYEM",
        "outputId": "241488da-d4a2-48d9-c604-f07af67289bd"
      },
      "outputs": [
        {
          "output_type": "stream",
          "name": "stdout",
          "text": [
            "Scanned 1440 audio files\n"
          ]
        }
      ],
      "source": [
        "subdirs = [os.path.join(\"./dataset\", subdir) for subdir in os.listdir(\"./dataset\")]\n",
        "file_paths = [os.path.join(subdir, wav) for subdir in subdirs for wav in os.listdir(subdir)]\n",
        "print(f\"Scanned {len(file_paths)} audio files\")"
      ]
    },
    {
      "cell_type": "code",
      "execution_count": null,
      "metadata": {
        "colab": {
          "base_uri": "https://localhost:8080/"
        },
        "id": "SwL3f0iisIvU",
        "outputId": "6c057625-ff21-4ac5-f0d7-072fcc700fc7"
      },
      "outputs": [
        {
          "output_type": "stream",
          "name": "stdout",
          "text": [
            "Generated identifiers of shape: (1440, 7)\n"
          ]
        }
      ],
      "source": [
        "file_identifiers = pd.DataFrame([os.path.splitext(os.path.basename(p))[0].split(\"-\") for p in file_paths]).applymap(lambda x : int(x))\n",
        "print(f\"Generated identifiers of shape: {file_identifiers.shape}\")"
      ]
    },
    {
      "cell_type": "code",
      "execution_count": null,
      "metadata": {
        "id": "PjPPTq5ytszM"
      },
      "outputs": [],
      "source": [
        "df = pd.DataFrame()\n",
        "df[\"path\"] = file_paths\n",
        "# Makna setiap identifier dapat dibaca di:\n",
        "# https://www.kaggle.com/datasets/uwrfkaggler/ravdess-emotional-speech-audio\n",
        "# Hanya emotion yang diperlukan\n",
        "df[\"emotion\"] = file_identifiers[2].map({1: \"neutral\", 2: \"calm\", 3: \"happy\", 4: \"sad\", 5: \"angry\", 6: \"fearful\", 7: \"disgust\", 8: \"surprised\"})\n",
        "df[\"emotional_intensity\"] = file_identifiers[3].map({1: \"normal\", 2: \"strong\"})"
      ]
    },
    {
      "cell_type": "code",
      "execution_count": null,
      "metadata": {
        "colab": {
          "base_uri": "https://localhost:8080/"
        },
        "id": "X2gCJq_Evlxl",
        "outputId": "095529b0-2f4e-4fd2-a2c0-92639af784c7"
      },
      "outputs": [
        {
          "output_type": "display_data",
          "data": {
            "text/plain": [
              "                                             path    emotion  \\\n",
              "0     ./dataset/Actor_08/03-01-05-01-02-02-08.wav      angry   \n",
              "1     ./dataset/Actor_08/03-01-08-02-01-01-08.wav  surprised   \n",
              "2     ./dataset/Actor_08/03-01-05-01-01-01-08.wav      angry   \n",
              "3     ./dataset/Actor_08/03-01-08-02-02-01-08.wav  surprised   \n",
              "4     ./dataset/Actor_08/03-01-06-02-02-01-08.wav    fearful   \n",
              "...                                           ...        ...   \n",
              "1435  ./dataset/Actor_12/03-01-08-01-01-02-12.wav  surprised   \n",
              "1436  ./dataset/Actor_12/03-01-04-01-01-01-12.wav        sad   \n",
              "1437  ./dataset/Actor_12/03-01-08-02-02-01-12.wav  surprised   \n",
              "1438  ./dataset/Actor_12/03-01-04-01-02-02-12.wav        sad   \n",
              "1439  ./dataset/Actor_12/03-01-03-01-01-02-12.wav      happy   \n",
              "\n",
              "     emotional_intensity  \n",
              "0                 normal  \n",
              "1                 strong  \n",
              "2                 normal  \n",
              "3                 strong  \n",
              "4                 strong  \n",
              "...                  ...  \n",
              "1435              normal  \n",
              "1436              normal  \n",
              "1437              strong  \n",
              "1438              normal  \n",
              "1439              normal  \n",
              "\n",
              "[1440 rows x 3 columns]"
            ],
            "text/html": [
              "\n",
              "  <div id=\"df-0bd80389-8032-4ef9-b48d-b30e31052944\">\n",
              "    <div class=\"colab-df-container\">\n",
              "      <div>\n",
              "<style scoped>\n",
              "    .dataframe tbody tr th:only-of-type {\n",
              "        vertical-align: middle;\n",
              "    }\n",
              "\n",
              "    .dataframe tbody tr th {\n",
              "        vertical-align: top;\n",
              "    }\n",
              "\n",
              "    .dataframe thead th {\n",
              "        text-align: right;\n",
              "    }\n",
              "</style>\n",
              "<table border=\"1\" class=\"dataframe\">\n",
              "  <thead>\n",
              "    <tr style=\"text-align: right;\">\n",
              "      <th></th>\n",
              "      <th>path</th>\n",
              "      <th>emotion</th>\n",
              "      <th>emotional_intensity</th>\n",
              "    </tr>\n",
              "  </thead>\n",
              "  <tbody>\n",
              "    <tr>\n",
              "      <th>0</th>\n",
              "      <td>./dataset/Actor_08/03-01-05-01-02-02-08.wav</td>\n",
              "      <td>angry</td>\n",
              "      <td>normal</td>\n",
              "    </tr>\n",
              "    <tr>\n",
              "      <th>1</th>\n",
              "      <td>./dataset/Actor_08/03-01-08-02-01-01-08.wav</td>\n",
              "      <td>surprised</td>\n",
              "      <td>strong</td>\n",
              "    </tr>\n",
              "    <tr>\n",
              "      <th>2</th>\n",
              "      <td>./dataset/Actor_08/03-01-05-01-01-01-08.wav</td>\n",
              "      <td>angry</td>\n",
              "      <td>normal</td>\n",
              "    </tr>\n",
              "    <tr>\n",
              "      <th>3</th>\n",
              "      <td>./dataset/Actor_08/03-01-08-02-02-01-08.wav</td>\n",
              "      <td>surprised</td>\n",
              "      <td>strong</td>\n",
              "    </tr>\n",
              "    <tr>\n",
              "      <th>4</th>\n",
              "      <td>./dataset/Actor_08/03-01-06-02-02-01-08.wav</td>\n",
              "      <td>fearful</td>\n",
              "      <td>strong</td>\n",
              "    </tr>\n",
              "    <tr>\n",
              "      <th>...</th>\n",
              "      <td>...</td>\n",
              "      <td>...</td>\n",
              "      <td>...</td>\n",
              "    </tr>\n",
              "    <tr>\n",
              "      <th>1435</th>\n",
              "      <td>./dataset/Actor_12/03-01-08-01-01-02-12.wav</td>\n",
              "      <td>surprised</td>\n",
              "      <td>normal</td>\n",
              "    </tr>\n",
              "    <tr>\n",
              "      <th>1436</th>\n",
              "      <td>./dataset/Actor_12/03-01-04-01-01-01-12.wav</td>\n",
              "      <td>sad</td>\n",
              "      <td>normal</td>\n",
              "    </tr>\n",
              "    <tr>\n",
              "      <th>1437</th>\n",
              "      <td>./dataset/Actor_12/03-01-08-02-02-01-12.wav</td>\n",
              "      <td>surprised</td>\n",
              "      <td>strong</td>\n",
              "    </tr>\n",
              "    <tr>\n",
              "      <th>1438</th>\n",
              "      <td>./dataset/Actor_12/03-01-04-01-02-02-12.wav</td>\n",
              "      <td>sad</td>\n",
              "      <td>normal</td>\n",
              "    </tr>\n",
              "    <tr>\n",
              "      <th>1439</th>\n",
              "      <td>./dataset/Actor_12/03-01-03-01-01-02-12.wav</td>\n",
              "      <td>happy</td>\n",
              "      <td>normal</td>\n",
              "    </tr>\n",
              "  </tbody>\n",
              "</table>\n",
              "<p>1440 rows × 3 columns</p>\n",
              "</div>\n",
              "      <button class=\"colab-df-convert\" onclick=\"convertToInteractive('df-0bd80389-8032-4ef9-b48d-b30e31052944')\"\n",
              "              title=\"Convert this dataframe to an interactive table.\"\n",
              "              style=\"display:none;\">\n",
              "        \n",
              "  <svg xmlns=\"http://www.w3.org/2000/svg\" height=\"24px\"viewBox=\"0 0 24 24\"\n",
              "       width=\"24px\">\n",
              "    <path d=\"M0 0h24v24H0V0z\" fill=\"none\"/>\n",
              "    <path d=\"M18.56 5.44l.94 2.06.94-2.06 2.06-.94-2.06-.94-.94-2.06-.94 2.06-2.06.94zm-11 1L8.5 8.5l.94-2.06 2.06-.94-2.06-.94L8.5 2.5l-.94 2.06-2.06.94zm10 10l.94 2.06.94-2.06 2.06-.94-2.06-.94-.94-2.06-.94 2.06-2.06.94z\"/><path d=\"M17.41 7.96l-1.37-1.37c-.4-.4-.92-.59-1.43-.59-.52 0-1.04.2-1.43.59L10.3 9.45l-7.72 7.72c-.78.78-.78 2.05 0 2.83L4 21.41c.39.39.9.59 1.41.59.51 0 1.02-.2 1.41-.59l7.78-7.78 2.81-2.81c.8-.78.8-2.07 0-2.86zM5.41 20L4 18.59l7.72-7.72 1.47 1.35L5.41 20z\"/>\n",
              "  </svg>\n",
              "      </button>\n",
              "      \n",
              "  <style>\n",
              "    .colab-df-container {\n",
              "      display:flex;\n",
              "      flex-wrap:wrap;\n",
              "      gap: 12px;\n",
              "    }\n",
              "\n",
              "    .colab-df-convert {\n",
              "      background-color: #E8F0FE;\n",
              "      border: none;\n",
              "      border-radius: 50%;\n",
              "      cursor: pointer;\n",
              "      display: none;\n",
              "      fill: #1967D2;\n",
              "      height: 32px;\n",
              "      padding: 0 0 0 0;\n",
              "      width: 32px;\n",
              "    }\n",
              "\n",
              "    .colab-df-convert:hover {\n",
              "      background-color: #E2EBFA;\n",
              "      box-shadow: 0px 1px 2px rgba(60, 64, 67, 0.3), 0px 1px 3px 1px rgba(60, 64, 67, 0.15);\n",
              "      fill: #174EA6;\n",
              "    }\n",
              "\n",
              "    [theme=dark] .colab-df-convert {\n",
              "      background-color: #3B4455;\n",
              "      fill: #D2E3FC;\n",
              "    }\n",
              "\n",
              "    [theme=dark] .colab-df-convert:hover {\n",
              "      background-color: #434B5C;\n",
              "      box-shadow: 0px 1px 3px 1px rgba(0, 0, 0, 0.15);\n",
              "      filter: drop-shadow(0px 1px 2px rgba(0, 0, 0, 0.3));\n",
              "      fill: #FFFFFF;\n",
              "    }\n",
              "  </style>\n",
              "\n",
              "      <script>\n",
              "        const buttonEl =\n",
              "          document.querySelector('#df-0bd80389-8032-4ef9-b48d-b30e31052944 button.colab-df-convert');\n",
              "        buttonEl.style.display =\n",
              "          google.colab.kernel.accessAllowed ? 'block' : 'none';\n",
              "\n",
              "        async function convertToInteractive(key) {\n",
              "          const element = document.querySelector('#df-0bd80389-8032-4ef9-b48d-b30e31052944');\n",
              "          const dataTable =\n",
              "            await google.colab.kernel.invokeFunction('convertToInteractive',\n",
              "                                                     [key], {});\n",
              "          if (!dataTable) return;\n",
              "\n",
              "          const docLinkHtml = 'Like what you see? Visit the ' +\n",
              "            '<a target=\"_blank\" href=https://colab.research.google.com/notebooks/data_table.ipynb>data table notebook</a>'\n",
              "            + ' to learn more about interactive tables.';\n",
              "          element.innerHTML = '';\n",
              "          dataTable['output_type'] = 'display_data';\n",
              "          await google.colab.output.renderOutput(dataTable, element);\n",
              "          const docLink = document.createElement('div');\n",
              "          docLink.innerHTML = docLinkHtml;\n",
              "          element.appendChild(docLink);\n",
              "        }\n",
              "      </script>\n",
              "    </div>\n",
              "  </div>\n",
              "  "
            ]
          },
          "metadata": {}
        }
      ],
      "source": [
        "display(df)"
      ]
    },
    {
      "cell_type": "markdown",
      "metadata": {
        "id": "yHWgXaYZo8Mx"
      },
      "source": [
        "# Data Preprocessing\n",
        "Preprocessing ga langsung di-apply, ditampung dulu dalam fungsi. Diapply semua di bagian terakhir."
      ]
    },
    {
      "cell_type": "markdown",
      "metadata": {
        "id": "Lh0yO3hk2lKF"
      },
      "source": [
        "## Train Test Split"
      ]
    },
    {
      "cell_type": "code",
      "execution_count": null,
      "metadata": {
        "colab": {
          "base_uri": "https://localhost:8080/"
        },
        "id": "lXWNZtvhNK__",
        "outputId": "a0302f9c-a142-434b-abd8-efa8181efbf7"
      },
      "outputs": [
        {
          "output_type": "stream",
          "name": "stdout",
          "text": [
            "Train: (1152, 3) Test: (288, 3)\n"
          ]
        }
      ],
      "source": [
        "train, test = train_test_split(df, test_size=0.2, random_state=1)\n",
        "print(f\"Train: {train.shape} Test: {test.shape}\")"
      ]
    },
    {
      "cell_type": "markdown",
      "metadata": {
        "id": "84EQwkDOzKV0"
      },
      "source": [
        "## Feature Extraction"
      ]
    },
    {
      "cell_type": "code",
      "execution_count": null,
      "metadata": {
        "id": "s8uLaN5yzJ2E"
      },
      "outputs": [],
      "source": [
        "def mfcc(testpath):\n",
        "    x, sample_rate = soundfile.read(testpath, dtype=\"float32\")\n",
        "    mfcc = librosa.feature.mfcc(y=x, sr=sample_rate)\n",
        "    del1 = librosa.feature.delta(mfcc, delta=1)\n",
        "    del2 = librosa.feature.delta(mfcc, delta=2)\n",
        "    complete_mfcc = np.vstack((mfcc, del1, del2))\n",
        "    mfcc_mean = complete_mfcc.mean(axis=1)\n",
        "    mfcc_max = complete_mfcc.max(axis=1)\n",
        "    mfcc_min = complete_mfcc.min(axis=1)\n",
        "    mfcc_std = complete_mfcc.std(axis=1)\n",
        "    return pd.Series(np.hstack((mfcc_mean, mfcc_max, mfcc_min, mfcc_std)))"
      ]
    },
    {
      "cell_type": "code",
      "execution_count": null,
      "metadata": {
        "colab": {
          "base_uri": "https://localhost:8080/"
        },
        "id": "2kUb2zWfxgy3",
        "outputId": "d6858c29-ff5b-4093-9d21-ba82db72be6f"
      },
      "outputs": [
        {
          "output_type": "stream",
          "name": "stdout",
          "text": [
            "Extracting 240 features from each audio file\n"
          ]
        }
      ],
      "source": [
        "testpath = df[\"path\"].iloc[0]\n",
        "print(f\"Extracting {mfcc(testpath).shape[0]} features from each audio file\")"
      ]
    },
    {
      "cell_type": "code",
      "execution_count": null,
      "metadata": {
        "id": "DpA6k-rlfip3"
      },
      "outputs": [],
      "source": [
        "x_train = pd.DataFrame(train[\"path\"].apply(mfcc))\n",
        "x_test = pd.DataFrame(test[\"path\"].apply(mfcc))"
      ]
    },
    {
      "cell_type": "markdown",
      "metadata": {
        "id": "tWJCSyFXYwAP"
      },
      "source": [
        "## Relabel"
      ]
    },
    {
      "cell_type": "code",
      "execution_count": null,
      "metadata": {
        "id": "U_uxP3b-de_H"
      },
      "outputs": [],
      "source": [
        "encoder = LabelBinarizer()\n",
        "encoder = encoder.fit(df[\"emotion\"])"
      ]
    },
    {
      "cell_type": "code",
      "execution_count": null,
      "metadata": {
        "id": "c1vDG-6Adi30"
      },
      "outputs": [],
      "source": [
        "y_train = encoder.transform(train[\"emotion\"])\n",
        "y_test = encoder.transform(test[\"emotion\"])"
      ]
    },
    {
      "cell_type": "markdown",
      "metadata": {
        "id": "fRotkkg4fo9o"
      },
      "source": [
        "## Z-Score Normalization"
      ]
    },
    {
      "cell_type": "code",
      "execution_count": null,
      "metadata": {
        "colab": {
          "base_uri": "https://localhost:8080/"
        },
        "id": "dR59gzndgmFT",
        "outputId": "54f9fa81-6610-4bc2-a149-7cf4bb4eb331"
      },
      "outputs": [
        {
          "output_type": "stream",
          "name": "stdout",
          "text": [
            "0    99.308998\n",
            "1    16.549145\n",
            "2    12.581145\n",
            "dtype: float32\n"
          ]
        }
      ],
      "source": [
        "print(x_train[[0,1,2]].std())"
      ]
    },
    {
      "cell_type": "code",
      "execution_count": null,
      "metadata": {
        "id": "7zPpdbvIfrSY"
      },
      "outputs": [],
      "source": [
        "scaler = StandardScaler()\n",
        "x_train = pd.DataFrame(scaler.fit_transform(x_train))\n",
        "x_test = pd.DataFrame(scaler.transform(x_test))"
      ]
    },
    {
      "cell_type": "code",
      "execution_count": null,
      "metadata": {
        "colab": {
          "base_uri": "https://localhost:8080/"
        },
        "id": "0FIJc_d6hWai",
        "outputId": "2c546bf4-c53d-4afb-a6be-9bffe20853a8"
      },
      "outputs": [
        {
          "output_type": "stream",
          "name": "stdout",
          "text": [
            "0    1.000434\n",
            "1    1.000434\n",
            "2    1.000434\n",
            "dtype: float32\n"
          ]
        }
      ],
      "source": [
        "print(x_train[[0,1,2]].std())"
      ]
    },
    {
      "cell_type": "markdown",
      "metadata": {
        "id": "ruFIehnkhXf7"
      },
      "source": [
        "## Summary"
      ]
    },
    {
      "cell_type": "code",
      "execution_count": null,
      "metadata": {
        "colab": {
          "base_uri": "https://localhost:8080/"
        },
        "id": "xJx8eSGyVn0Z",
        "outputId": "ba360994-5bf9-419c-ac5c-5e1aed15467f"
      },
      "outputs": [
        {
          "output_type": "stream",
          "name": "stdout",
          "text": [
            "X train: (1152, 240) Y train: (1152, 8)\n",
            "X test: (288, 240) Y test: (288, 8)\n"
          ]
        }
      ],
      "source": [
        "print(f\"X train: {x_train.shape} Y train: {y_train.shape}\")\n",
        "print(f\"X test: {x_test.shape} Y test: {y_test.shape}\")"
      ]
    },
    {
      "cell_type": "markdown",
      "metadata": {
        "id": "Eb82iw2tdwQu"
      },
      "source": [
        "# Modelling"
      ]
    },
    {
      "cell_type": "code",
      "execution_count": null,
      "metadata": {
        "id": "dYA2z-KQ7zF6"
      },
      "outputs": [],
      "source": [
        "model = Sequential([\n",
        "    Dropout(0.1),\n",
        "    Dense(180, activation='relu'),\n",
        "    Dropout(0.3),\n",
        "    Dense(120, activation='relu'),\n",
        "    Dropout(0.3),\n",
        "    Dense(60, activation='relu'),\n",
        "    Dropout(0.3),\n",
        "    Dense(40, activation='relu'),\n",
        "    Dropout(0.3),\n",
        "    Dense(8, activation='softmax')\n",
        "])\n",
        "\n",
        "model.compile(\n",
        "    optimizer=\"adam\",\n",
        "    loss='categorical_crossentropy',\n",
        "    metrics=['accuracy']\n",
        ")"
      ]
    },
    {
      "cell_type": "code",
      "execution_count": null,
      "metadata": {
        "colab": {
          "base_uri": "https://localhost:8080/"
        },
        "id": "8N9QZgQeBks_",
        "outputId": "e98dbc4f-487b-4cb3-c4da-a9ec5fe33931"
      },
      "outputs": [
        {
          "output_type": "stream",
          "name": "stdout",
          "text": [
            "Epoch 1/200\n",
            "36/36 [==============================] - 2s 15ms/step - loss: 2.1981 - accuracy: 0.1354 - val_loss: 1.9675 - val_accuracy: 0.2431\n",
            "Epoch 2/200\n",
            "36/36 [==============================] - 0s 7ms/step - loss: 1.9956 - accuracy: 0.2274 - val_loss: 1.8894 - val_accuracy: 0.3125\n",
            "Epoch 3/200\n",
            "36/36 [==============================] - 0s 5ms/step - loss: 1.9444 - accuracy: 0.2465 - val_loss: 1.8337 - val_accuracy: 0.3160\n",
            "Epoch 4/200\n",
            "36/36 [==============================] - 0s 6ms/step - loss: 1.8355 - accuracy: 0.2839 - val_loss: 1.7643 - val_accuracy: 0.3403\n",
            "Epoch 5/200\n",
            "36/36 [==============================] - 0s 5ms/step - loss: 1.7855 - accuracy: 0.3064 - val_loss: 1.6859 - val_accuracy: 0.3715\n",
            "Epoch 6/200\n",
            "36/36 [==============================] - 0s 5ms/step - loss: 1.7538 - accuracy: 0.3299 - val_loss: 1.6361 - val_accuracy: 0.4167\n",
            "Epoch 7/200\n",
            "36/36 [==============================] - 0s 6ms/step - loss: 1.6570 - accuracy: 0.3481 - val_loss: 1.5555 - val_accuracy: 0.4271\n",
            "Epoch 8/200\n",
            "36/36 [==============================] - 0s 5ms/step - loss: 1.6038 - accuracy: 0.3854 - val_loss: 1.4964 - val_accuracy: 0.4340\n",
            "Epoch 9/200\n",
            "36/36 [==============================] - 0s 6ms/step - loss: 1.5681 - accuracy: 0.3915 - val_loss: 1.4529 - val_accuracy: 0.4653\n",
            "Epoch 10/200\n",
            "36/36 [==============================] - 0s 6ms/step - loss: 1.5011 - accuracy: 0.4236 - val_loss: 1.4101 - val_accuracy: 0.4618\n",
            "Epoch 11/200\n",
            "36/36 [==============================] - 0s 8ms/step - loss: 1.4028 - accuracy: 0.4766 - val_loss: 1.3662 - val_accuracy: 0.4965\n",
            "Epoch 12/200\n",
            "36/36 [==============================] - 0s 7ms/step - loss: 1.3873 - accuracy: 0.4766 - val_loss: 1.3581 - val_accuracy: 0.5139\n",
            "Epoch 13/200\n",
            "36/36 [==============================] - 0s 7ms/step - loss: 1.3079 - accuracy: 0.5269 - val_loss: 1.3311 - val_accuracy: 0.5208\n",
            "Epoch 14/200\n",
            "36/36 [==============================] - 0s 7ms/step - loss: 1.2408 - accuracy: 0.5330 - val_loss: 1.2946 - val_accuracy: 0.5347\n",
            "Epoch 15/200\n",
            "36/36 [==============================] - 0s 7ms/step - loss: 1.2540 - accuracy: 0.5408 - val_loss: 1.2968 - val_accuracy: 0.5347\n",
            "Epoch 16/200\n",
            "36/36 [==============================] - 0s 7ms/step - loss: 1.2124 - accuracy: 0.5521 - val_loss: 1.2676 - val_accuracy: 0.5382\n",
            "Epoch 17/200\n",
            "36/36 [==============================] - 0s 8ms/step - loss: 1.1616 - accuracy: 0.5842 - val_loss: 1.2603 - val_accuracy: 0.5312\n",
            "Epoch 18/200\n",
            "36/36 [==============================] - 0s 7ms/step - loss: 1.1007 - accuracy: 0.5859 - val_loss: 1.2571 - val_accuracy: 0.5312\n",
            "Epoch 19/200\n",
            "36/36 [==============================] - 0s 7ms/step - loss: 1.0704 - accuracy: 0.6181 - val_loss: 1.2251 - val_accuracy: 0.5729\n",
            "Epoch 20/200\n",
            "36/36 [==============================] - 0s 7ms/step - loss: 1.0139 - accuracy: 0.6259 - val_loss: 1.2686 - val_accuracy: 0.5625\n",
            "Epoch 21/200\n",
            "36/36 [==============================] - 0s 9ms/step - loss: 1.0102 - accuracy: 0.6458 - val_loss: 1.1967 - val_accuracy: 0.5799\n",
            "Epoch 22/200\n",
            "36/36 [==============================] - 0s 5ms/step - loss: 1.0200 - accuracy: 0.6328 - val_loss: 1.2085 - val_accuracy: 0.5764\n",
            "Epoch 23/200\n",
            "36/36 [==============================] - 0s 6ms/step - loss: 0.9687 - accuracy: 0.6623 - val_loss: 1.1768 - val_accuracy: 0.5660\n",
            "Epoch 24/200\n",
            "36/36 [==============================] - 0s 6ms/step - loss: 0.9426 - accuracy: 0.6536 - val_loss: 1.1657 - val_accuracy: 0.5694\n",
            "Epoch 25/200\n",
            "36/36 [==============================] - 0s 5ms/step - loss: 0.9344 - accuracy: 0.6597 - val_loss: 1.1444 - val_accuracy: 0.6007\n",
            "Epoch 26/200\n",
            "36/36 [==============================] - 0s 6ms/step - loss: 0.9316 - accuracy: 0.6918 - val_loss: 1.1686 - val_accuracy: 0.5972\n",
            "Epoch 27/200\n",
            "36/36 [==============================] - 0s 6ms/step - loss: 0.9175 - accuracy: 0.6901 - val_loss: 1.1230 - val_accuracy: 0.6319\n",
            "Epoch 28/200\n",
            "36/36 [==============================] - 0s 4ms/step - loss: 0.8859 - accuracy: 0.7118 - val_loss: 1.1119 - val_accuracy: 0.5972\n",
            "Epoch 29/200\n",
            "36/36 [==============================] - 0s 5ms/step - loss: 0.8743 - accuracy: 0.6962 - val_loss: 1.1186 - val_accuracy: 0.6111\n",
            "Epoch 30/200\n",
            "36/36 [==============================] - 0s 5ms/step - loss: 0.8168 - accuracy: 0.7049 - val_loss: 1.1584 - val_accuracy: 0.5938\n",
            "Epoch 31/200\n",
            "36/36 [==============================] - 0s 5ms/step - loss: 0.8720 - accuracy: 0.6979 - val_loss: 1.1139 - val_accuracy: 0.6076\n",
            "Epoch 32/200\n",
            "36/36 [==============================] - 0s 4ms/step - loss: 0.7706 - accuracy: 0.7370 - val_loss: 1.1947 - val_accuracy: 0.5972\n",
            "Epoch 33/200\n",
            "36/36 [==============================] - 0s 6ms/step - loss: 0.7676 - accuracy: 0.7431 - val_loss: 1.1901 - val_accuracy: 0.6007\n",
            "Epoch 34/200\n",
            "36/36 [==============================] - 0s 5ms/step - loss: 0.7810 - accuracy: 0.7378 - val_loss: 1.1347 - val_accuracy: 0.6146\n",
            "Epoch 35/200\n",
            "36/36 [==============================] - 0s 6ms/step - loss: 0.7251 - accuracy: 0.7630 - val_loss: 1.1041 - val_accuracy: 0.6181\n",
            "Epoch 36/200\n",
            "36/36 [==============================] - 0s 6ms/step - loss: 0.7412 - accuracy: 0.7465 - val_loss: 1.0800 - val_accuracy: 0.6250\n",
            "Epoch 37/200\n",
            "36/36 [==============================] - 0s 6ms/step - loss: 0.7239 - accuracy: 0.7465 - val_loss: 1.0948 - val_accuracy: 0.6250\n",
            "Epoch 38/200\n",
            "36/36 [==============================] - 0s 5ms/step - loss: 0.6934 - accuracy: 0.7682 - val_loss: 1.0976 - val_accuracy: 0.6458\n",
            "Epoch 39/200\n",
            "36/36 [==============================] - 0s 4ms/step - loss: 0.6629 - accuracy: 0.7665 - val_loss: 1.1275 - val_accuracy: 0.6319\n",
            "Epoch 40/200\n",
            "36/36 [==============================] - 0s 5ms/step - loss: 0.6446 - accuracy: 0.7856 - val_loss: 1.0581 - val_accuracy: 0.6319\n",
            "Epoch 41/200\n",
            "36/36 [==============================] - 0s 5ms/step - loss: 0.6250 - accuracy: 0.7847 - val_loss: 1.0717 - val_accuracy: 0.6562\n",
            "Epoch 42/200\n",
            "36/36 [==============================] - 0s 5ms/step - loss: 0.6151 - accuracy: 0.7795 - val_loss: 1.0986 - val_accuracy: 0.6319\n",
            "Epoch 43/200\n",
            "36/36 [==============================] - 0s 5ms/step - loss: 0.6274 - accuracy: 0.8012 - val_loss: 1.1397 - val_accuracy: 0.6354\n",
            "Epoch 44/200\n",
            "36/36 [==============================] - 0s 5ms/step - loss: 0.5811 - accuracy: 0.7943 - val_loss: 1.0997 - val_accuracy: 0.6319\n",
            "Epoch 45/200\n",
            "36/36 [==============================] - 0s 5ms/step - loss: 0.6162 - accuracy: 0.7951 - val_loss: 1.0565 - val_accuracy: 0.6389\n",
            "Epoch 46/200\n",
            "36/36 [==============================] - 0s 5ms/step - loss: 0.5844 - accuracy: 0.8177 - val_loss: 1.0671 - val_accuracy: 0.6632\n",
            "Epoch 47/200\n",
            "36/36 [==============================] - 0s 5ms/step - loss: 0.5424 - accuracy: 0.8203 - val_loss: 1.1109 - val_accuracy: 0.6493\n",
            "Epoch 48/200\n",
            "36/36 [==============================] - 0s 6ms/step - loss: 0.5353 - accuracy: 0.8229 - val_loss: 1.1378 - val_accuracy: 0.6493\n",
            "Epoch 49/200\n",
            "36/36 [==============================] - 0s 5ms/step - loss: 0.5411 - accuracy: 0.8325 - val_loss: 1.0912 - val_accuracy: 0.6562\n",
            "Epoch 50/200\n",
            "36/36 [==============================] - 0s 5ms/step - loss: 0.5460 - accuracy: 0.8255 - val_loss: 1.0728 - val_accuracy: 0.6424\n",
            "Epoch 51/200\n",
            "36/36 [==============================] - 0s 5ms/step - loss: 0.4833 - accuracy: 0.8385 - val_loss: 1.1315 - val_accuracy: 0.6389\n",
            "Epoch 52/200\n",
            "36/36 [==============================] - 0s 5ms/step - loss: 0.5591 - accuracy: 0.8160 - val_loss: 1.1115 - val_accuracy: 0.6354\n",
            "Epoch 53/200\n",
            "36/36 [==============================] - 0s 5ms/step - loss: 0.4839 - accuracy: 0.8359 - val_loss: 1.1064 - val_accuracy: 0.6875\n",
            "Epoch 54/200\n",
            "36/36 [==============================] - 0s 5ms/step - loss: 0.5140 - accuracy: 0.8351 - val_loss: 1.1995 - val_accuracy: 0.6493\n",
            "Epoch 55/200\n",
            "36/36 [==============================] - 0s 5ms/step - loss: 0.5524 - accuracy: 0.8342 - val_loss: 1.0791 - val_accuracy: 0.6562\n",
            "Epoch 56/200\n",
            "36/36 [==============================] - 0s 6ms/step - loss: 0.4657 - accuracy: 0.8594 - val_loss: 1.0929 - val_accuracy: 0.6667\n",
            "Epoch 57/200\n",
            "36/36 [==============================] - 0s 5ms/step - loss: 0.4504 - accuracy: 0.8611 - val_loss: 1.1170 - val_accuracy: 0.6597\n",
            "Epoch 58/200\n",
            "36/36 [==============================] - 0s 6ms/step - loss: 0.4534 - accuracy: 0.8602 - val_loss: 1.1021 - val_accuracy: 0.6493\n",
            "Epoch 59/200\n",
            "36/36 [==============================] - 0s 5ms/step - loss: 0.4422 - accuracy: 0.8576 - val_loss: 1.1132 - val_accuracy: 0.6528\n",
            "Epoch 60/200\n",
            "36/36 [==============================] - 0s 5ms/step - loss: 0.4568 - accuracy: 0.8481 - val_loss: 1.1217 - val_accuracy: 0.6458\n",
            "Epoch 61/200\n",
            "36/36 [==============================] - 0s 5ms/step - loss: 0.4502 - accuracy: 0.8585 - val_loss: 1.0764 - val_accuracy: 0.6771\n",
            "Epoch 62/200\n",
            "36/36 [==============================] - 0s 5ms/step - loss: 0.4581 - accuracy: 0.8550 - val_loss: 1.1073 - val_accuracy: 0.6493\n",
            "Epoch 63/200\n",
            "36/36 [==============================] - 0s 6ms/step - loss: 0.4882 - accuracy: 0.8533 - val_loss: 1.1034 - val_accuracy: 0.6354\n",
            "Epoch 64/200\n",
            "36/36 [==============================] - 0s 5ms/step - loss: 0.4562 - accuracy: 0.8490 - val_loss: 1.1046 - val_accuracy: 0.6771\n",
            "Epoch 65/200\n",
            "36/36 [==============================] - 0s 6ms/step - loss: 0.4497 - accuracy: 0.8698 - val_loss: 1.0586 - val_accuracy: 0.6528\n",
            "Epoch 66/200\n",
            "36/36 [==============================] - 0s 6ms/step - loss: 0.4221 - accuracy: 0.8663 - val_loss: 1.0562 - val_accuracy: 0.6493\n",
            "Epoch 67/200\n",
            "36/36 [==============================] - 0s 5ms/step - loss: 0.3944 - accuracy: 0.8750 - val_loss: 1.0872 - val_accuracy: 0.6424\n",
            "Epoch 68/200\n",
            "36/36 [==============================] - 0s 7ms/step - loss: 0.3918 - accuracy: 0.8715 - val_loss: 1.1599 - val_accuracy: 0.6181\n",
            "Epoch 69/200\n",
            "36/36 [==============================] - 0s 5ms/step - loss: 0.4044 - accuracy: 0.8707 - val_loss: 1.1576 - val_accuracy: 0.6319\n",
            "Epoch 70/200\n",
            "36/36 [==============================] - 0s 5ms/step - loss: 0.4263 - accuracy: 0.8672 - val_loss: 1.1145 - val_accuracy: 0.6319\n",
            "Epoch 71/200\n",
            "36/36 [==============================] - 0s 5ms/step - loss: 0.4364 - accuracy: 0.8741 - val_loss: 1.1763 - val_accuracy: 0.6146\n",
            "Epoch 72/200\n",
            "36/36 [==============================] - 0s 9ms/step - loss: 0.4106 - accuracy: 0.8628 - val_loss: 1.1344 - val_accuracy: 0.6562\n",
            "Epoch 73/200\n",
            "36/36 [==============================] - 0s 9ms/step - loss: 0.4282 - accuracy: 0.8637 - val_loss: 1.0885 - val_accuracy: 0.6632\n",
            "Epoch 74/200\n",
            "36/36 [==============================] - 0s 8ms/step - loss: 0.3754 - accuracy: 0.8854 - val_loss: 1.1516 - val_accuracy: 0.6493\n",
            "Epoch 75/200\n",
            "36/36 [==============================] - 0s 8ms/step - loss: 0.3901 - accuracy: 0.8854 - val_loss: 1.1983 - val_accuracy: 0.6285\n",
            "Epoch 76/200\n",
            "36/36 [==============================] - 0s 11ms/step - loss: 0.3700 - accuracy: 0.8837 - val_loss: 1.1169 - val_accuracy: 0.6597\n",
            "Epoch 77/200\n",
            "36/36 [==============================] - 0s 9ms/step - loss: 0.3737 - accuracy: 0.8759 - val_loss: 1.1407 - val_accuracy: 0.6562\n",
            "Epoch 78/200\n",
            "36/36 [==============================] - 0s 7ms/step - loss: 0.3321 - accuracy: 0.8932 - val_loss: 1.0925 - val_accuracy: 0.6667\n",
            "Epoch 79/200\n",
            "36/36 [==============================] - 0s 9ms/step - loss: 0.2967 - accuracy: 0.9010 - val_loss: 1.1331 - val_accuracy: 0.6632\n",
            "Epoch 80/200\n",
            "36/36 [==============================] - 0s 8ms/step - loss: 0.3229 - accuracy: 0.9071 - val_loss: 1.0746 - val_accuracy: 0.6528\n",
            "Epoch 81/200\n",
            "36/36 [==============================] - 0s 6ms/step - loss: 0.3414 - accuracy: 0.8967 - val_loss: 1.1526 - val_accuracy: 0.6562\n",
            "Epoch 82/200\n",
            "36/36 [==============================] - 0s 6ms/step - loss: 0.3232 - accuracy: 0.9149 - val_loss: 1.0726 - val_accuracy: 0.6493\n",
            "Epoch 83/200\n",
            "36/36 [==============================] - 0s 5ms/step - loss: 0.2732 - accuracy: 0.9149 - val_loss: 1.1486 - val_accuracy: 0.6597\n",
            "Epoch 84/200\n",
            "36/36 [==============================] - 0s 6ms/step - loss: 0.3441 - accuracy: 0.9028 - val_loss: 1.1328 - val_accuracy: 0.6562\n",
            "Epoch 85/200\n",
            "36/36 [==============================] - 0s 5ms/step - loss: 0.3126 - accuracy: 0.9019 - val_loss: 1.0791 - val_accuracy: 0.6701\n",
            "Epoch 86/200\n",
            "36/36 [==============================] - 0s 5ms/step - loss: 0.3824 - accuracy: 0.8776 - val_loss: 1.1102 - val_accuracy: 0.6562\n",
            "Epoch 87/200\n",
            "36/36 [==============================] - 0s 6ms/step - loss: 0.3210 - accuracy: 0.9045 - val_loss: 1.0698 - val_accuracy: 0.6875\n",
            "Epoch 88/200\n",
            "36/36 [==============================] - 0s 6ms/step - loss: 0.2964 - accuracy: 0.9062 - val_loss: 1.1384 - val_accuracy: 0.6736\n",
            "Epoch 89/200\n",
            "36/36 [==============================] - 0s 5ms/step - loss: 0.2942 - accuracy: 0.9167 - val_loss: 1.1112 - val_accuracy: 0.6736\n",
            "Epoch 90/200\n",
            "36/36 [==============================] - 0s 5ms/step - loss: 0.2777 - accuracy: 0.9175 - val_loss: 1.0781 - val_accuracy: 0.6771\n",
            "Epoch 91/200\n",
            "36/36 [==============================] - 0s 5ms/step - loss: 0.3131 - accuracy: 0.8984 - val_loss: 1.1113 - val_accuracy: 0.6771\n",
            "Epoch 92/200\n",
            "36/36 [==============================] - 0s 6ms/step - loss: 0.3150 - accuracy: 0.9149 - val_loss: 1.0893 - val_accuracy: 0.6840\n",
            "Epoch 93/200\n",
            "36/36 [==============================] - 0s 6ms/step - loss: 0.3268 - accuracy: 0.9080 - val_loss: 1.0861 - val_accuracy: 0.7014\n",
            "Epoch 94/200\n",
            "36/36 [==============================] - 0s 5ms/step - loss: 0.2717 - accuracy: 0.9175 - val_loss: 1.1346 - val_accuracy: 0.6667\n",
            "Epoch 95/200\n",
            "36/36 [==============================] - 0s 5ms/step - loss: 0.2807 - accuracy: 0.9080 - val_loss: 1.1093 - val_accuracy: 0.6701\n",
            "Epoch 96/200\n",
            "36/36 [==============================] - 0s 5ms/step - loss: 0.2763 - accuracy: 0.9132 - val_loss: 1.1970 - val_accuracy: 0.6562\n",
            "Epoch 97/200\n",
            "36/36 [==============================] - 0s 6ms/step - loss: 0.2929 - accuracy: 0.9141 - val_loss: 1.2404 - val_accuracy: 0.6736\n",
            "Epoch 98/200\n",
            "36/36 [==============================] - 0s 6ms/step - loss: 0.3200 - accuracy: 0.9062 - val_loss: 1.1383 - val_accuracy: 0.6458\n",
            "Epoch 99/200\n",
            "36/36 [==============================] - 0s 5ms/step - loss: 0.3254 - accuracy: 0.9019 - val_loss: 1.2091 - val_accuracy: 0.6632\n",
            "Epoch 100/200\n",
            "36/36 [==============================] - 0s 5ms/step - loss: 0.2934 - accuracy: 0.9097 - val_loss: 1.2095 - val_accuracy: 0.6736\n",
            "Epoch 101/200\n",
            "36/36 [==============================] - 0s 6ms/step - loss: 0.2862 - accuracy: 0.9149 - val_loss: 1.1900 - val_accuracy: 0.6667\n",
            "Epoch 102/200\n",
            "36/36 [==============================] - 0s 6ms/step - loss: 0.2502 - accuracy: 0.9271 - val_loss: 1.1927 - val_accuracy: 0.6389\n",
            "Epoch 103/200\n",
            "36/36 [==============================] - 0s 5ms/step - loss: 0.2948 - accuracy: 0.9175 - val_loss: 1.2300 - val_accuracy: 0.6632\n",
            "Epoch 104/200\n",
            "36/36 [==============================] - 0s 5ms/step - loss: 0.2800 - accuracy: 0.9149 - val_loss: 1.2464 - val_accuracy: 0.6632\n",
            "Epoch 105/200\n",
            "36/36 [==============================] - 0s 4ms/step - loss: 0.2356 - accuracy: 0.9262 - val_loss: 1.2685 - val_accuracy: 0.6528\n",
            "Epoch 106/200\n",
            "36/36 [==============================] - 0s 5ms/step - loss: 0.2360 - accuracy: 0.9236 - val_loss: 1.2502 - val_accuracy: 0.6771\n",
            "Epoch 107/200\n",
            "36/36 [==============================] - 0s 5ms/step - loss: 0.2286 - accuracy: 0.9306 - val_loss: 1.2399 - val_accuracy: 0.6910\n",
            "Epoch 108/200\n",
            "36/36 [==============================] - 0s 5ms/step - loss: 0.2484 - accuracy: 0.9253 - val_loss: 1.3178 - val_accuracy: 0.6840\n",
            "Epoch 109/200\n",
            "36/36 [==============================] - 0s 5ms/step - loss: 0.2001 - accuracy: 0.9427 - val_loss: 1.2584 - val_accuracy: 0.6840\n",
            "Epoch 110/200\n",
            "36/36 [==============================] - 0s 5ms/step - loss: 0.1941 - accuracy: 0.9349 - val_loss: 1.4137 - val_accuracy: 0.6840\n",
            "Epoch 111/200\n",
            "36/36 [==============================] - 0s 5ms/step - loss: 0.2996 - accuracy: 0.9089 - val_loss: 1.2707 - val_accuracy: 0.6701\n",
            "Epoch 112/200\n",
            "36/36 [==============================] - 0s 5ms/step - loss: 0.2738 - accuracy: 0.9193 - val_loss: 1.2653 - val_accuracy: 0.6632\n",
            "Epoch 113/200\n",
            "36/36 [==============================] - 0s 4ms/step - loss: 0.2425 - accuracy: 0.9245 - val_loss: 1.2522 - val_accuracy: 0.6493\n",
            "Epoch 114/200\n",
            "36/36 [==============================] - 0s 5ms/step - loss: 0.2469 - accuracy: 0.9366 - val_loss: 1.1803 - val_accuracy: 0.6701\n",
            "Epoch 115/200\n",
            "36/36 [==============================] - 0s 6ms/step - loss: 0.1965 - accuracy: 0.9453 - val_loss: 1.2258 - val_accuracy: 0.6701\n",
            "Epoch 116/200\n",
            "36/36 [==============================] - 0s 5ms/step - loss: 0.2521 - accuracy: 0.9210 - val_loss: 1.2219 - val_accuracy: 0.6667\n",
            "Epoch 117/200\n",
            "36/36 [==============================] - 0s 6ms/step - loss: 0.2194 - accuracy: 0.9410 - val_loss: 1.2711 - val_accuracy: 0.6632\n",
            "Epoch 118/200\n",
            "36/36 [==============================] - 0s 5ms/step - loss: 0.2916 - accuracy: 0.9210 - val_loss: 1.2343 - val_accuracy: 0.6701\n",
            "Epoch 119/200\n",
            "36/36 [==============================] - 0s 5ms/step - loss: 0.2159 - accuracy: 0.9332 - val_loss: 1.2961 - val_accuracy: 0.6736\n",
            "Epoch 120/200\n",
            "36/36 [==============================] - 0s 5ms/step - loss: 0.2617 - accuracy: 0.9253 - val_loss: 1.2553 - val_accuracy: 0.6910\n",
            "Epoch 121/200\n",
            "36/36 [==============================] - 0s 5ms/step - loss: 0.2845 - accuracy: 0.9132 - val_loss: 1.1800 - val_accuracy: 0.6771\n",
            "Epoch 122/200\n",
            "36/36 [==============================] - 0s 5ms/step - loss: 0.2242 - accuracy: 0.9306 - val_loss: 1.2717 - val_accuracy: 0.6701\n",
            "Epoch 123/200\n",
            "36/36 [==============================] - 0s 5ms/step - loss: 0.2047 - accuracy: 0.9366 - val_loss: 1.2119 - val_accuracy: 0.6944\n",
            "Epoch 124/200\n",
            "36/36 [==============================] - 0s 5ms/step - loss: 0.2384 - accuracy: 0.9323 - val_loss: 1.2529 - val_accuracy: 0.6493\n",
            "Epoch 125/200\n",
            "36/36 [==============================] - 0s 5ms/step - loss: 0.2682 - accuracy: 0.9245 - val_loss: 1.2259 - val_accuracy: 0.6424\n",
            "Epoch 126/200\n",
            "36/36 [==============================] - 0s 4ms/step - loss: 0.2396 - accuracy: 0.9384 - val_loss: 1.2751 - val_accuracy: 0.6562\n",
            "Epoch 127/200\n",
            "36/36 [==============================] - 0s 5ms/step - loss: 0.2315 - accuracy: 0.9306 - val_loss: 1.3176 - val_accuracy: 0.6736\n",
            "Epoch 128/200\n",
            "36/36 [==============================] - 0s 5ms/step - loss: 0.2415 - accuracy: 0.9280 - val_loss: 1.2040 - val_accuracy: 0.7014\n",
            "Epoch 129/200\n",
            "36/36 [==============================] - 0s 5ms/step - loss: 0.2470 - accuracy: 0.9314 - val_loss: 1.2849 - val_accuracy: 0.6667\n",
            "Epoch 130/200\n",
            "36/36 [==============================] - 0s 5ms/step - loss: 0.2260 - accuracy: 0.9358 - val_loss: 1.2830 - val_accuracy: 0.6597\n",
            "Epoch 131/200\n",
            "36/36 [==============================] - 0s 5ms/step - loss: 0.2005 - accuracy: 0.9401 - val_loss: 1.2676 - val_accuracy: 0.6632\n",
            "Epoch 132/200\n",
            "36/36 [==============================] - 0s 6ms/step - loss: 0.2470 - accuracy: 0.9358 - val_loss: 1.2961 - val_accuracy: 0.6597\n",
            "Epoch 133/200\n",
            "36/36 [==============================] - 0s 8ms/step - loss: 0.2389 - accuracy: 0.9340 - val_loss: 1.2544 - val_accuracy: 0.6840\n",
            "Epoch 134/200\n",
            "36/36 [==============================] - 0s 7ms/step - loss: 0.2252 - accuracy: 0.9392 - val_loss: 1.2870 - val_accuracy: 0.6389\n",
            "Epoch 135/200\n",
            "36/36 [==============================] - 0s 7ms/step - loss: 0.2569 - accuracy: 0.9280 - val_loss: 1.2096 - val_accuracy: 0.6667\n",
            "Epoch 136/200\n",
            "36/36 [==============================] - 0s 7ms/step - loss: 0.2022 - accuracy: 0.9418 - val_loss: 1.1958 - val_accuracy: 0.6806\n",
            "Epoch 137/200\n",
            "36/36 [==============================] - 0s 9ms/step - loss: 0.2031 - accuracy: 0.9384 - val_loss: 1.2377 - val_accuracy: 0.6736\n",
            "Epoch 138/200\n",
            "36/36 [==============================] - 0s 7ms/step - loss: 0.1684 - accuracy: 0.9488 - val_loss: 1.2841 - val_accuracy: 0.7049\n",
            "Epoch 139/200\n",
            "36/36 [==============================] - 0s 7ms/step - loss: 0.2451 - accuracy: 0.9366 - val_loss: 1.2324 - val_accuracy: 0.7049\n",
            "Epoch 140/200\n",
            "36/36 [==============================] - 0s 7ms/step - loss: 0.2284 - accuracy: 0.9453 - val_loss: 1.2005 - val_accuracy: 0.6701\n",
            "Epoch 141/200\n",
            "36/36 [==============================] - 0s 8ms/step - loss: 0.2444 - accuracy: 0.9227 - val_loss: 1.1486 - val_accuracy: 0.6875\n",
            "Epoch 142/200\n",
            "36/36 [==============================] - 0s 8ms/step - loss: 0.2014 - accuracy: 0.9375 - val_loss: 1.3089 - val_accuracy: 0.6736\n",
            "Epoch 143/200\n",
            "36/36 [==============================] - 0s 7ms/step - loss: 0.1603 - accuracy: 0.9540 - val_loss: 1.2968 - val_accuracy: 0.6597\n",
            "Epoch 144/200\n",
            "36/36 [==============================] - 0s 6ms/step - loss: 0.2052 - accuracy: 0.9462 - val_loss: 1.3199 - val_accuracy: 0.6701\n",
            "Epoch 145/200\n",
            "36/36 [==============================] - 0s 5ms/step - loss: 0.2313 - accuracy: 0.9340 - val_loss: 1.3036 - val_accuracy: 0.6597\n",
            "Epoch 146/200\n",
            "36/36 [==============================] - 0s 6ms/step - loss: 0.2184 - accuracy: 0.9427 - val_loss: 1.2677 - val_accuracy: 0.6528\n",
            "Epoch 147/200\n",
            "36/36 [==============================] - 0s 5ms/step - loss: 0.2117 - accuracy: 0.9470 - val_loss: 1.3004 - val_accuracy: 0.6424\n",
            "Epoch 148/200\n",
            "36/36 [==============================] - 0s 5ms/step - loss: 0.1933 - accuracy: 0.9418 - val_loss: 1.3446 - val_accuracy: 0.6597\n",
            "Epoch 149/200\n",
            "36/36 [==============================] - 0s 5ms/step - loss: 0.1721 - accuracy: 0.9488 - val_loss: 1.3597 - val_accuracy: 0.6493\n",
            "Epoch 150/200\n",
            "36/36 [==============================] - 0s 5ms/step - loss: 0.1487 - accuracy: 0.9531 - val_loss: 1.3243 - val_accuracy: 0.6597\n",
            "Epoch 151/200\n",
            "36/36 [==============================] - 0s 5ms/step - loss: 0.1585 - accuracy: 0.9523 - val_loss: 1.3723 - val_accuracy: 0.6667\n",
            "Epoch 152/200\n",
            "36/36 [==============================] - 0s 5ms/step - loss: 0.2294 - accuracy: 0.9227 - val_loss: 1.4207 - val_accuracy: 0.6597\n",
            "Epoch 153/200\n",
            "36/36 [==============================] - 0s 5ms/step - loss: 0.2029 - accuracy: 0.9332 - val_loss: 1.3112 - val_accuracy: 0.6701\n",
            "Epoch 154/200\n",
            "36/36 [==============================] - 0s 5ms/step - loss: 0.2497 - accuracy: 0.9262 - val_loss: 1.2152 - val_accuracy: 0.6632\n",
            "Epoch 155/200\n",
            "36/36 [==============================] - 0s 5ms/step - loss: 0.1664 - accuracy: 0.9523 - val_loss: 1.2460 - val_accuracy: 0.6771\n",
            "Epoch 156/200\n",
            "36/36 [==============================] - 0s 4ms/step - loss: 0.1832 - accuracy: 0.9505 - val_loss: 1.2210 - val_accuracy: 0.6771\n",
            "Epoch 157/200\n",
            "36/36 [==============================] - 0s 6ms/step - loss: 0.1887 - accuracy: 0.9462 - val_loss: 1.3011 - val_accuracy: 0.6667\n",
            "Epoch 158/200\n",
            "36/36 [==============================] - 0s 5ms/step - loss: 0.1733 - accuracy: 0.9462 - val_loss: 1.3470 - val_accuracy: 0.6597\n",
            "Epoch 159/200\n",
            "36/36 [==============================] - 0s 6ms/step - loss: 0.2097 - accuracy: 0.9401 - val_loss: 1.2179 - val_accuracy: 0.6806\n",
            "Epoch 160/200\n",
            "36/36 [==============================] - 0s 5ms/step - loss: 0.1579 - accuracy: 0.9531 - val_loss: 1.2120 - val_accuracy: 0.6736\n",
            "Epoch 161/200\n",
            "36/36 [==============================] - 0s 5ms/step - loss: 0.2260 - accuracy: 0.9297 - val_loss: 1.2747 - val_accuracy: 0.6528\n",
            "Epoch 162/200\n",
            "36/36 [==============================] - 0s 5ms/step - loss: 0.2160 - accuracy: 0.9497 - val_loss: 1.2558 - val_accuracy: 0.6389\n",
            "Epoch 163/200\n",
            "36/36 [==============================] - 0s 5ms/step - loss: 0.1894 - accuracy: 0.9462 - val_loss: 1.3152 - val_accuracy: 0.6389\n",
            "Epoch 164/200\n",
            "36/36 [==============================] - 0s 6ms/step - loss: 0.1896 - accuracy: 0.9462 - val_loss: 1.3895 - val_accuracy: 0.6771\n",
            "Epoch 165/200\n",
            "36/36 [==============================] - 0s 5ms/step - loss: 0.1604 - accuracy: 0.9488 - val_loss: 1.3861 - val_accuracy: 0.6424\n",
            "Epoch 166/200\n",
            "36/36 [==============================] - 0s 5ms/step - loss: 0.1673 - accuracy: 0.9523 - val_loss: 1.4050 - val_accuracy: 0.6528\n",
            "Epoch 167/200\n",
            "36/36 [==============================] - 0s 7ms/step - loss: 0.2197 - accuracy: 0.9418 - val_loss: 1.2905 - val_accuracy: 0.6701\n",
            "Epoch 168/200\n",
            "36/36 [==============================] - 0s 5ms/step - loss: 0.1644 - accuracy: 0.9444 - val_loss: 1.2603 - val_accuracy: 0.6597\n",
            "Epoch 169/200\n",
            "36/36 [==============================] - 0s 7ms/step - loss: 0.2047 - accuracy: 0.9427 - val_loss: 1.2662 - val_accuracy: 0.6597\n",
            "Epoch 170/200\n",
            "36/36 [==============================] - 0s 5ms/step - loss: 0.1710 - accuracy: 0.9453 - val_loss: 1.2579 - val_accuracy: 0.6771\n",
            "Epoch 171/200\n",
            "36/36 [==============================] - 0s 5ms/step - loss: 0.1546 - accuracy: 0.9557 - val_loss: 1.3088 - val_accuracy: 0.6840\n",
            "Epoch 172/200\n",
            "36/36 [==============================] - 0s 6ms/step - loss: 0.1852 - accuracy: 0.9444 - val_loss: 1.2789 - val_accuracy: 0.6875\n",
            "Epoch 173/200\n",
            "36/36 [==============================] - 0s 5ms/step - loss: 0.1662 - accuracy: 0.9436 - val_loss: 1.3560 - val_accuracy: 0.6458\n",
            "Epoch 174/200\n",
            "36/36 [==============================] - 0s 6ms/step - loss: 0.1795 - accuracy: 0.9488 - val_loss: 1.3377 - val_accuracy: 0.6562\n",
            "Epoch 175/200\n",
            "36/36 [==============================] - 0s 6ms/step - loss: 0.1646 - accuracy: 0.9583 - val_loss: 1.2303 - val_accuracy: 0.6701\n",
            "Epoch 176/200\n",
            "36/36 [==============================] - 0s 5ms/step - loss: 0.1909 - accuracy: 0.9557 - val_loss: 1.2046 - val_accuracy: 0.6840\n",
            "Epoch 177/200\n",
            "36/36 [==============================] - 0s 6ms/step - loss: 0.1663 - accuracy: 0.9497 - val_loss: 1.2541 - val_accuracy: 0.6840\n",
            "Epoch 178/200\n",
            "36/36 [==============================] - 0s 5ms/step - loss: 0.1754 - accuracy: 0.9557 - val_loss: 1.2463 - val_accuracy: 0.6701\n",
            "Epoch 179/200\n",
            "36/36 [==============================] - 0s 6ms/step - loss: 0.1758 - accuracy: 0.9470 - val_loss: 1.2815 - val_accuracy: 0.6910\n",
            "Epoch 180/200\n",
            "36/36 [==============================] - 0s 6ms/step - loss: 0.1947 - accuracy: 0.9410 - val_loss: 1.2340 - val_accuracy: 0.6944\n",
            "Epoch 181/200\n",
            "36/36 [==============================] - 0s 5ms/step - loss: 0.1946 - accuracy: 0.9505 - val_loss: 1.3169 - val_accuracy: 0.6771\n",
            "Epoch 182/200\n",
            "36/36 [==============================] - 0s 6ms/step - loss: 0.1711 - accuracy: 0.9557 - val_loss: 1.2737 - val_accuracy: 0.6736\n",
            "Epoch 183/200\n",
            "36/36 [==============================] - 0s 7ms/step - loss: 0.1524 - accuracy: 0.9497 - val_loss: 1.2292 - val_accuracy: 0.6806\n",
            "Epoch 184/200\n",
            "36/36 [==============================] - 0s 5ms/step - loss: 0.1736 - accuracy: 0.9514 - val_loss: 1.2172 - val_accuracy: 0.6875\n",
            "Epoch 185/200\n",
            "36/36 [==============================] - 0s 6ms/step - loss: 0.1724 - accuracy: 0.9479 - val_loss: 1.2176 - val_accuracy: 0.6944\n",
            "Epoch 186/200\n",
            "36/36 [==============================] - 0s 5ms/step - loss: 0.1145 - accuracy: 0.9670 - val_loss: 1.3201 - val_accuracy: 0.6910\n",
            "Epoch 187/200\n",
            "36/36 [==============================] - 0s 5ms/step - loss: 0.1889 - accuracy: 0.9540 - val_loss: 1.3296 - val_accuracy: 0.6632\n",
            "Epoch 188/200\n",
            "36/36 [==============================] - 0s 7ms/step - loss: 0.1683 - accuracy: 0.9444 - val_loss: 1.3515 - val_accuracy: 0.6944\n",
            "Epoch 189/200\n",
            "36/36 [==============================] - 0s 5ms/step - loss: 0.1718 - accuracy: 0.9488 - val_loss: 1.3875 - val_accuracy: 0.6667\n",
            "Epoch 190/200\n",
            "36/36 [==============================] - 0s 5ms/step - loss: 0.1795 - accuracy: 0.9497 - val_loss: 1.3426 - val_accuracy: 0.6736\n",
            "Epoch 191/200\n",
            "36/36 [==============================] - 0s 6ms/step - loss: 0.1678 - accuracy: 0.9549 - val_loss: 1.2331 - val_accuracy: 0.6910\n",
            "Epoch 192/200\n",
            "36/36 [==============================] - 0s 8ms/step - loss: 0.1574 - accuracy: 0.9601 - val_loss: 1.3389 - val_accuracy: 0.6944\n",
            "Epoch 193/200\n",
            "36/36 [==============================] - 0s 9ms/step - loss: 0.1379 - accuracy: 0.9609 - val_loss: 1.2314 - val_accuracy: 0.7118\n",
            "Epoch 194/200\n",
            "36/36 [==============================] - 0s 8ms/step - loss: 0.1541 - accuracy: 0.9557 - val_loss: 1.2789 - val_accuracy: 0.6771\n",
            "Epoch 195/200\n",
            "36/36 [==============================] - 0s 9ms/step - loss: 0.1177 - accuracy: 0.9653 - val_loss: 1.3248 - val_accuracy: 0.6979\n",
            "Epoch 196/200\n",
            "36/36 [==============================] - 0s 8ms/step - loss: 0.1441 - accuracy: 0.9523 - val_loss: 1.3775 - val_accuracy: 0.7118\n",
            "Epoch 197/200\n",
            "36/36 [==============================] - 0s 7ms/step - loss: 0.1628 - accuracy: 0.9505 - val_loss: 1.3461 - val_accuracy: 0.6806\n",
            "Epoch 198/200\n",
            "36/36 [==============================] - 0s 8ms/step - loss: 0.2272 - accuracy: 0.9427 - val_loss: 1.2369 - val_accuracy: 0.6771\n",
            "Epoch 199/200\n",
            "36/36 [==============================] - 0s 8ms/step - loss: 0.1848 - accuracy: 0.9531 - val_loss: 1.2175 - val_accuracy: 0.6736\n",
            "Epoch 200/200\n",
            "36/36 [==============================] - 0s 7ms/step - loss: 0.1514 - accuracy: 0.9644 - val_loss: 1.3283 - val_accuracy: 0.6875\n"
          ]
        }
      ],
      "source": [
        "set_random_seed(1)\n",
        "\n",
        "history = model.fit(\n",
        "    x_train,\n",
        "    y_train,\n",
        "    epochs=200,\n",
        "    validation_data = (x_test, y_test)\n",
        ")"
      ]
    },
    {
      "cell_type": "code",
      "execution_count": null,
      "metadata": {
        "colab": {
          "base_uri": "https://localhost:8080/"
        },
        "id": "tD4tPLjMpM37",
        "outputId": "fc4eb31b-9bcf-44bb-ac86-5517666aeee2"
      },
      "outputs": [
        {
          "output_type": "stream",
          "name": "stdout",
          "text": [
            "Model: \"sequential\"\n",
            "_________________________________________________________________\n",
            " Layer (type)                Output Shape              Param #   \n",
            "=================================================================\n",
            " dropout (Dropout)           (32, 240)                 0         \n",
            "                                                                 \n",
            " dense (Dense)               (32, 180)                 43380     \n",
            "                                                                 \n",
            " dropout_1 (Dropout)         (32, 180)                 0         \n",
            "                                                                 \n",
            " dense_1 (Dense)             (32, 120)                 21720     \n",
            "                                                                 \n",
            " dropout_2 (Dropout)         (32, 120)                 0         \n",
            "                                                                 \n",
            " dense_2 (Dense)             (32, 60)                  7260      \n",
            "                                                                 \n",
            " dropout_3 (Dropout)         (32, 60)                  0         \n",
            "                                                                 \n",
            " dense_3 (Dense)             (32, 40)                  2440      \n",
            "                                                                 \n",
            " dropout_4 (Dropout)         (32, 40)                  0         \n",
            "                                                                 \n",
            " dense_4 (Dense)             (32, 8)                   328       \n",
            "                                                                 \n",
            "=================================================================\n",
            "Total params: 75,128\n",
            "Trainable params: 75,128\n",
            "Non-trainable params: 0\n",
            "_________________________________________________________________\n"
          ]
        }
      ],
      "source": [
        "model.summary()"
      ]
    },
    {
      "cell_type": "code",
      "execution_count": null,
      "metadata": {
        "colab": {
          "base_uri": "https://localhost:8080/"
        },
        "id": "jV7IZCKKAwc_",
        "outputId": "9c198eea-d846-43a4-f20d-a43cd4e98c09"
      },
      "outputs": [
        {
          "output_type": "display_data",
          "data": {
            "text/plain": [
              "<Figure size 640x480 with 1 Axes>"
            ],
            "image/png": "[encoded data removed]"
          },
          "metadata": {}
        }
      ],
      "source": [
        "plt.plot(history.history[\"accuracy\"], label=\"Training Accuracy\")\n",
        "plt.plot(history.history[\"val_accuracy\"], label=\"Testing Accuracy\")\n",
        "plt.legend()\n",
        "plt.show()"
      ]
    },
    {
      "cell_type": "code",
      "execution_count": null,
      "metadata": {
        "colab": {
          "base_uri": "https://localhost:8080/"
        },
        "id": "Hk_S67ZoK5r3",
        "outputId": "2c283b90-7982-4edd-9e01-820e7059fc1b"
      },
      "outputs": [
        {
          "output_type": "stream",
          "name": "stdout",
          "text": [
            "9/9 [==============================] - 0s 8ms/step\n"
          ]
        }
      ],
      "source": [
        "pred = encoder.inverse_transform(model.predict(x_test))"
      ]
    },
    {
      "cell_type": "code",
      "execution_count": null,
      "metadata": {
        "colab": {
          "base_uri": "https://localhost:8080/"
        },
        "id": "uj0UEKNIf-Es",
        "outputId": "0e989e02-c458-4eaa-c94d-a0da35ce1da5"
      },
      "outputs": [
        {
          "output_type": "execute_result",
          "data": {
            "text/plain": [
              "array(['fearful', 'happy', 'disgust', 'happy', 'sad', 'sad', 'disgust',\n",
              "       'disgust', 'fearful', 'sad', 'disgust', 'fearful', 'angry',\n",
              "       'happy', 'calm', 'happy', 'sad', 'angry', 'fearful', 'disgust',\n",
              "       'surprised', 'disgust', 'calm', 'angry', 'sad', 'neutral',\n",
              "       'surprised', 'surprised', 'angry', 'surprised', 'surprised',\n",
              "       'disgust', 'neutral', 'calm', 'neutral', 'surprised', 'happy',\n",
              "       'surprised', 'fearful', 'calm', 'neutral', 'disgust', 'fearful',\n",
              "       'angry', 'surprised', 'disgust', 'fearful', 'disgust', 'sad',\n",
              "       'disgust', 'sad', 'calm', 'surprised', 'disgust', 'happy',\n",
              "       'disgust', 'disgust', 'disgust', 'angry', 'fearful', 'neutral',\n",
              "       'calm', 'neutral', 'disgust', 'neutral', 'calm', 'disgust',\n",
              "       'fearful', 'sad', 'calm', 'surprised', 'fearful', 'sad', 'calm',\n",
              "       'surprised', 'happy', 'happy', 'happy', 'neutral', 'calm',\n",
              "       'surprised', 'angry', 'happy', 'angry', 'calm', 'disgust', 'angry',\n",
              "       'happy', 'calm', 'surprised', 'angry', 'calm', 'sad', 'neutral',\n",
              "       'angry', 'fearful', 'disgust', 'sad', 'calm', 'calm', 'happy',\n",
              "       'surprised', 'sad', 'happy', 'angry', 'calm', 'happy', 'happy',\n",
              "       'disgust', 'surprised', 'disgust', 'calm', 'angry', 'neutral',\n",
              "       'fearful', 'fearful', 'fearful', 'angry', 'happy', 'surprised',\n",
              "       'disgust', 'fearful', 'disgust', 'neutral', 'calm', 'angry',\n",
              "       'disgust', 'calm', 'fearful', 'calm', 'happy', 'sad', 'calm',\n",
              "       'disgust', 'neutral', 'disgust', 'disgust', 'calm', 'happy',\n",
              "       'angry', 'sad', 'angry', 'angry', 'fearful', 'calm', 'calm',\n",
              "       'disgust', 'happy', 'disgust', 'fearful', 'calm', 'fearful',\n",
              "       'disgust', 'happy', 'fearful', 'happy', 'surprised', 'sad',\n",
              "       'disgust', 'sad', 'calm', 'surprised', 'disgust', 'surprised',\n",
              "       'angry', 'happy', 'happy', 'calm', 'sad', 'sad', 'fearful',\n",
              "       'angry', 'sad', 'neutral', 'angry', 'calm', 'sad', 'fearful',\n",
              "       'sad', 'disgust', 'disgust', 'happy', 'surprised', 'happy',\n",
              "       'happy', 'disgust', 'disgust', 'fearful', 'fearful', 'happy',\n",
              "       'happy', 'disgust', 'calm', 'calm', 'sad', 'fearful', 'surprised',\n",
              "       'calm', 'happy', 'surprised', 'sad', 'surprised', 'sad',\n",
              "       'surprised', 'angry', 'calm', 'calm', 'calm', 'fearful', 'happy',\n",
              "       'happy', 'calm', 'sad', 'angry', 'angry', 'calm', 'sad', 'happy',\n",
              "       'calm', 'fearful', 'neutral', 'calm', 'angry', 'calm', 'neutral',\n",
              "       'angry', 'angry', 'surprised', 'calm', 'sad', 'calm', 'disgust',\n",
              "       'neutral', 'disgust', 'disgust', 'happy', 'disgust', 'fearful',\n",
              "       'disgust', 'sad', 'sad', 'sad', 'angry', 'fearful', 'angry',\n",
              "       'angry', 'fearful', 'fearful', 'calm', 'sad', 'neutral',\n",
              "       'surprised', 'fearful', 'surprised', 'neutral', 'angry', 'fearful',\n",
              "       'happy', 'happy', 'surprised', 'happy', 'sad', 'happy', 'calm',\n",
              "       'disgust', 'happy', 'disgust', 'disgust', 'surprised', 'angry',\n",
              "       'neutral', 'angry', 'angry', 'surprised', 'angry', 'disgust',\n",
              "       'surprised', 'sad', 'disgust', 'neutral', 'neutral', 'surprised',\n",
              "       'happy', 'fearful', 'fearful', 'fearful', 'sad', 'calm'],\n",
              "      dtype='<U9')"
            ]
          },
          "metadata": {},
          "execution_count": 22
        }
      ],
      "source": [
        "pred"
      ]
    },
    {
      "cell_type": "code",
      "execution_count": null,
      "metadata": {
        "colab": {
          "base_uri": "https://localhost:8080/"
        },
        "id": "i6mp4js4Mf3n",
        "outputId": "7a4f37ba-4b7e-453c-e52f-fb8d10567a8d"
      },
      "outputs": [
        {
          "output_type": "execute_result",
          "data": {
            "text/plain": [
              "        pred   actual\n",
              "0    fearful  fearful\n",
              "1      happy      sad\n",
              "2    disgust  disgust\n",
              "3      happy    happy\n",
              "4        sad  neutral\n",
              "..       ...      ...\n",
              "283  fearful    happy\n",
              "284  fearful  fearful\n",
              "285  fearful  fearful\n",
              "286      sad      sad\n",
              "287     calm      sad\n",
              "\n",
              "[288 rows x 2 columns]"
            ],
            "text/html": [
              "\n",
              "  <div id=\"df-62f1d94a-b34a-46f7-a688-e40e1074d587\">\n",
              "    <div class=\"colab-df-container\">\n",
              "      <div>\n",
              "<style scoped>\n",
              "    .dataframe tbody tr th:only-of-type {\n",
              "        vertical-align: middle;\n",
              "    }\n",
              "\n",
              "    .dataframe tbody tr th {\n",
              "        vertical-align: top;\n",
              "    }\n",
              "\n",
              "    .dataframe thead th {\n",
              "        text-align: right;\n",
              "    }\n",
              "</style>\n",
              "<table border=\"1\" class=\"dataframe\">\n",
              "  <thead>\n",
              "    <tr style=\"text-align: right;\">\n",
              "      <th></th>\n",
              "      <th>pred</th>\n",
              "      <th>actual</th>\n",
              "    </tr>\n",
              "  </thead>\n",
              "  <tbody>\n",
              "    <tr>\n",
              "      <th>0</th>\n",
              "      <td>fearful</td>\n",
              "      <td>fearful</td>\n",
              "    </tr>\n",
              "    <tr>\n",
              "      <th>1</th>\n",
              "      <td>happy</td>\n",
              "      <td>sad</td>\n",
              "    </tr>\n",
              "    <tr>\n",
              "      <th>2</th>\n",
              "      <td>disgust</td>\n",
              "      <td>disgust</td>\n",
              "    </tr>\n",
              "    <tr>\n",
              "      <th>3</th>\n",
              "      <td>happy</td>\n",
              "      <td>happy</td>\n",
              "    </tr>\n",
              "    <tr>\n",
              "      <th>4</th>\n",
              "      <td>sad</td>\n",
              "      <td>neutral</td>\n",
              "    </tr>\n",
              "    <tr>\n",
              "      <th>...</th>\n",
              "      <td>...</td>\n",
              "      <td>...</td>\n",
              "    </tr>\n",
              "    <tr>\n",
              "      <th>283</th>\n",
              "      <td>fearful</td>\n",
              "      <td>happy</td>\n",
              "    </tr>\n",
              "    <tr>\n",
              "      <th>284</th>\n",
              "      <td>fearful</td>\n",
              "      <td>fearful</td>\n",
              "    </tr>\n",
              "    <tr>\n",
              "      <th>285</th>\n",
              "      <td>fearful</td>\n",
              "      <td>fearful</td>\n",
              "    </tr>\n",
              "    <tr>\n",
              "      <th>286</th>\n",
              "      <td>sad</td>\n",
              "      <td>sad</td>\n",
              "    </tr>\n",
              "    <tr>\n",
              "      <th>287</th>\n",
              "      <td>calm</td>\n",
              "      <td>sad</td>\n",
              "    </tr>\n",
              "  </tbody>\n",
              "</table>\n",
              "<p>288 rows × 2 columns</p>\n",
              "</div>\n",
              "      <button class=\"colab-df-convert\" onclick=\"convertToInteractive('df-62f1d94a-b34a-46f7-a688-e40e1074d587')\"\n",
              "              title=\"Convert this dataframe to an interactive table.\"\n",
              "              style=\"display:none;\">\n",
              "        \n",
              "  <svg xmlns=\"http://www.w3.org/2000/svg\" height=\"24px\"viewBox=\"0 0 24 24\"\n",
              "       width=\"24px\">\n",
              "    <path d=\"M0 0h24v24H0V0z\" fill=\"none\"/>\n",
              "    <path d=\"M18.56 5.44l.94 2.06.94-2.06 2.06-.94-2.06-.94-.94-2.06-.94 2.06-2.06.94zm-11 1L8.5 8.5l.94-2.06 2.06-.94-2.06-.94L8.5 2.5l-.94 2.06-2.06.94zm10 10l.94 2.06.94-2.06 2.06-.94-2.06-.94-.94-2.06-.94 2.06-2.06.94z\"/><path d=\"M17.41 7.96l-1.37-1.37c-.4-.4-.92-.59-1.43-.59-.52 0-1.04.2-1.43.59L10.3 9.45l-7.72 7.72c-.78.78-.78 2.05 0 2.83L4 21.41c.39.39.9.59 1.41.59.51 0 1.02-.2 1.41-.59l7.78-7.78 2.81-2.81c.8-.78.8-2.07 0-2.86zM5.41 20L4 18.59l7.72-7.72 1.47 1.35L5.41 20z\"/>\n",
              "  </svg>\n",
              "      </button>\n",
              "      \n",
              "  <style>\n",
              "    .colab-df-container {\n",
              "      display:flex;\n",
              "      flex-wrap:wrap;\n",
              "      gap: 12px;\n",
              "    }\n",
              "\n",
              "    .colab-df-convert {\n",
              "      background-color: #E8F0FE;\n",
              "      border: none;\n",
              "      border-radius: 50%;\n",
              "      cursor: pointer;\n",
              "      display: none;\n",
              "      fill: #1967D2;\n",
              "      height: 32px;\n",
              "      padding: 0 0 0 0;\n",
              "      width: 32px;\n",
              "    }\n",
              "\n",
              "    .colab-df-convert:hover {\n",
              "      background-color: #E2EBFA;\n",
              "      box-shadow: 0px 1px 2px rgba(60, 64, 67, 0.3), 0px 1px 3px 1px rgba(60, 64, 67, 0.15);\n",
              "      fill: #174EA6;\n",
              "    }\n",
              "\n",
              "    [theme=dark] .colab-df-convert {\n",
              "      background-color: #3B4455;\n",
              "      fill: #D2E3FC;\n",
              "    }\n",
              "\n",
              "    [theme=dark] .colab-df-convert:hover {\n",
              "      background-color: #434B5C;\n",
              "      box-shadow: 0px 1px 3px 1px rgba(0, 0, 0, 0.15);\n",
              "      filter: drop-shadow(0px 1px 2px rgba(0, 0, 0, 0.3));\n",
              "      fill: #FFFFFF;\n",
              "    }\n",
              "  </style>\n",
              "\n",
              "      <script>\n",
              "        const buttonEl =\n",
              "          document.querySelector('#df-62f1d94a-b34a-46f7-a688-e40e1074d587 button.colab-df-convert');\n",
              "        buttonEl.style.display =\n",
              "          google.colab.kernel.accessAllowed ? 'block' : 'none';\n",
              "\n",
              "        async function convertToInteractive(key) {\n",
              "          const element = document.querySelector('#df-62f1d94a-b34a-46f7-a688-e40e1074d587');\n",
              "          const dataTable =\n",
              "            await google.colab.kernel.invokeFunction('convertToInteractive',\n",
              "                                                     [key], {});\n",
              "          if (!dataTable) return;\n",
              "\n",
              "          const docLinkHtml = 'Like what you see? Visit the ' +\n",
              "            '<a target=\"_blank\" href=https://colab.research.google.com/notebooks/data_table.ipynb>data table notebook</a>'\n",
              "            + ' to learn more about interactive tables.';\n",
              "          element.innerHTML = '';\n",
              "          dataTable['output_type'] = 'display_data';\n",
              "          await google.colab.output.renderOutput(dataTable, element);\n",
              "          const docLink = document.createElement('div');\n",
              "          docLink.innerHTML = docLinkHtml;\n",
              "          element.appendChild(docLink);\n",
              "        }\n",
              "      </script>\n",
              "    </div>\n",
              "  </div>\n",
              "  "
            ]
          },
          "metadata": {},
          "execution_count": 23
        }
      ],
      "source": [
        "result = pd.DataFrame()\n",
        "result[\"pred\"] = pred\n",
        "result[\"actual\"] = encoder.inverse_transform(y_test)\n",
        "result"
      ]
    },
    {
      "cell_type": "markdown",
      "metadata": {
        "id": "N_tyO5rWeGOa"
      },
      "source": [
        "# Evaluation"
      ]
    },
    {
      "cell_type": "code",
      "execution_count": null,
      "metadata": {
        "colab": {
          "base_uri": "https://localhost:8080/"
        },
        "id": "9nYoIm2z60ex",
        "outputId": "ff51a25a-03d5-4a5a-b3c0-f2a30eef3c44"
      },
      "outputs": [
        {
          "output_type": "stream",
          "name": "stdout",
          "text": [
            "              precision    recall  f1-score   support\n",
            "\n",
            "       angry       0.86      0.73      0.79        41\n",
            "        calm       0.73      0.86      0.79        37\n",
            "     disgust       0.70      0.75      0.73        44\n",
            "     fearful       0.61      0.79      0.69        28\n",
            "       happy       0.62      0.57      0.59        42\n",
            "     neutral       0.62      0.65      0.63        20\n",
            "         sad       0.53      0.50      0.51        36\n",
            "   surprised       0.81      0.65      0.72        40\n",
            "\n",
            "    accuracy                           0.69       288\n",
            "   macro avg       0.68      0.69      0.68       288\n",
            "weighted avg       0.69      0.69      0.69       288\n",
            "\n"
          ]
        }
      ],
      "source": [
        "print(classification_report(result[\"actual\"], result[\"pred\"]))"
      ]
    },
    {
      "cell_type": "code",
      "execution_count": null,
      "metadata": {
        "colab": {
          "base_uri": "https://localhost:8080/"
        },
        "id": "V00NKuLa6XuO",
        "outputId": "42997a3f-90af-4bec-c62a-699acd857a12"
      },
      "outputs": [
        {
          "output_type": "display_data",
          "data": {
            "text/plain": [
              "<Figure size 640x480 with 2 Axes>"
            ],
            "image/png": "[encoded data removed]"
          },
          "metadata": {}
        }
      ],
      "source": [
        "ConfusionMatrixDisplay.from_predictions(result[\"actual\"], result[\"pred\"])\n",
        "plt.show()"
      ]
    },
    {
      "cell_type": "markdown",
      "metadata": {
        "id": "Q79tnI1jBlaR"
      },
      "source": [
        "# Save Models"
      ]
    },
    {
      "cell_type": "code",
      "execution_count": null,
      "metadata": {
        "id": "bFVq5nnsAq4z"
      },
      "outputs": [],
      "source": [
        "model.save(\"models/ann.h5\")\n",
        "with open(\"models/encoder.pickle\", \"wb\") as f:\n",
        "    pickle.dump(encoder, f)\n",
        "with open(\"models/scaler.pickle\", \"wb\") as f:\n",
        "    pickle.dump(scaler, f)"
      ]
    }
  ],
  "metadata": {
    "colab": {
      "provenance": []
    },
    "kernelspec": {
      "display_name": "Python 3",
      "name": "python3"
    },
    "language_info": {
      "name": "python"
    }
  },
  "nbformat": 4,
  "nbformat_minor": 0
}